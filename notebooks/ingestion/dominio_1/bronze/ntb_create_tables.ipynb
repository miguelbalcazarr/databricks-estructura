{
 "cells": [
  {
   "cell_type": "code",
   "execution_count": 0,
   "metadata": {
    "application/vnd.databricks.v1+cell": {
     "cellMetadata": {
      "byteLimit": 2048000,
      "rowLimit": 10000
     },
     "inputWidgets": {},
     "nuid": "34a39a34-96c3-4b6b-9e87-f365a66e6258",
     "showTitle": false,
     "tableResultSettingsMap": {},
     "title": ""
    }
   },
   "outputs": [],
   "source": [
    "%run ../../../bootstrap"
   ]
  },
  {
   "cell_type": "code",
   "execution_count": 0,
   "metadata": {
    "application/vnd.databricks.v1+cell": {
     "cellMetadata": {
      "byteLimit": 2048000,
      "rowLimit": 10000
     },
     "inputWidgets": {},
     "nuid": "fbd77a4c-47d9-4a22-8ac0-021959bb7519",
     "showTitle": false,
     "tableResultSettingsMap": {},
     "title": ""
    }
   },
   "outputs": [],
   "source": [
    "import sys\n",
    "import os\n",
    "import importlib.util\n",
    "from src.common.init_tables import schema_to_sql, create_table\n",
    "\n",
    "tables_path = os.path.abspath(os.path.join(os.getcwd(), \"../tables\"))\n",
    "tables_infos = []\n",
    "\n",
    "for fname in os.listdir(tables_path):\n",
    "    if fname.endswith(\".py\") and not fname.startswith(\"__\"):\n",
    "        fpath = os.path.join(tables_path, fname)\n",
    "        module_name = fname[:-3]\n",
    "        spec = importlib.util.spec_from_file_location(module_name, fpath)\n",
    "        module = importlib.util.module_from_spec(spec)\n",
    "        spec.loader.exec_module(module)\n",
    "        if hasattr(module, \"get_table_info\"):\n",
    "            info = module.get_table_info()\n",
    "            tables_infos.append(info)\n",
    "            print(f\"Tabla {info['table']} lista para procesar.\")\n",
    "\n",
    "for info in tables_infos:\n",
    "    catalog, database_name, table_name = info[\"table\"].split(\".\")\n",
    "    table_schema_sql = schema_to_sql(info[\"schema\"])\n",
    "    table_location = info[\"path\"]\n",
    "    table_comment = info[\"description\"]\n",
    "    partition = \", \".join(info[\"partition_by\"]) if info.get(\"partition_by\") else None\n",
    "    primary_key = \", \".join(info[\"primary_key\"]) if info.get(\"primary_key\") else None\n",
    "\n",
    "    create_table(\n",
    "        database_name=database_name,\n",
    "        table_name=table_name,\n",
    "        table_schema=table_schema_sql,\n",
    "        table_location=table_location,\n",
    "        table_comment=table_comment,\n",
    "        partition=partition,\n",
    "        primary_key=primary_key\n",
    "    )"
   ]
  }
 ],
 "metadata": {
  "application/vnd.databricks.v1+notebook": {
   "computePreferences": null,
   "dashboards": [],
   "environmentMetadata": {
    "base_environment": "",
    "environment_version": "2"
   },
   "inputWidgetPreferences": null,
   "language": "python",
   "notebookMetadata": {
    "mostRecentlyExecutedCommandWithImplicitDF": {
     "commandId": 4516882533551279,
     "dataframes": [
      "_sqldf"
     ]
    },
    "pythonIndentUnit": 4
   },
   "notebookName": "ntb_create_tables",
   "widgets": {}
  },
  "language_info": {
   "name": "python"
  }
 },
 "nbformat": 4,
 "nbformat_minor": 0
}
