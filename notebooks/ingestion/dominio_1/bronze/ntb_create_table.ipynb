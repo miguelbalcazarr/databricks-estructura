{
 "cells": [
  {
   "cell_type": "code",
   "execution_count": 0,
   "metadata": {
    "application/vnd.databricks.v1+cell": {
     "cellMetadata": {
      "byteLimit": 2048000,
      "rowLimit": 10000
     },
     "inputWidgets": {},
     "nuid": "8ab7fd60-1772-414e-8656-43b2361bba52",
     "showTitle": false,
     "tableResultSettingsMap": {},
     "title": ""
    }
   },
   "outputs": [],
   "source": [
    "import sys\n",
    "import os\n",
    "import importlib.util\n",
    "from src.common.utils import to_struct_type\n",
    "\n",
    "# Añade la ruta absoluta de src/ al sys.path\n",
    "repo_root = os.path.abspath(os.path.join(os.getcwd(), \"../../../..\"))  # Ajusta si es necesario\n",
    "src_path = os.path.join(repo_root, \"src\")\n",
    "if src_path not in sys.path:\n",
    "    sys.path.append(src_path)\n",
    "\n",
    "# Ahora sí puedes importar de common, etc.\n",
    "\n",
    "# 1. Ubica el path absoluto a la carpeta tables\n",
    "tables_path = os.path.abspath(os.path.join(os.getcwd(), \"../tables\"))\n",
    "\n",
    "tables_infos = []\n",
    "\n",
    "for fname in os.listdir(tables_path):\n",
    "    if fname.endswith(\".py\") and not fname.startswith(\"__\"):\n",
    "        fpath = os.path.join(tables_path, fname)\n",
    "        module_name = fname[:-3]\n",
    "        spec = importlib.util.spec_from_file_location(module_name, fpath)\n",
    "        module = importlib.util.module_from_spec(spec)\n",
    "        spec.loader.exec_module(module)\n",
    "        if hasattr(module, \"get_table_info\"):\n",
    "            info = module.get_table_info()\n",
    "            tables_infos.append(info)\n",
    "            print(f\"Procesando tabla: {info['table']}\")\n",
    "            print(\"Path:\", info[\"path\"])\n",
    "            print(\"Schema:\", info[\"schema\"])\n"
   ]
  },
  {
   "cell_type": "code",
   "execution_count": 0,
   "metadata": {
    "application/vnd.databricks.v1+cell": {
     "cellMetadata": {
      "byteLimit": 2048000,
      "rowLimit": 10000
     },
     "inputWidgets": {},
     "nuid": "81591432-6eea-447e-a8c9-0cabb8fa6f89",
     "showTitle": false,
     "tableResultSettingsMap": {},
     "title": ""
    }
   },
   "outputs": [],
   "source": [
    "for info in tables_infos:\n",
    "    #schema = to_struct_type(info[\"schema\"])\n",
    "    spark.sql(f\"\"\"\n",
    "        CREATE TABLE IF NOT EXISTS {info['table']}\n",
    "        USING DELTA\n",
    "        LOCATION '{info['path']}'\n",
    "    \"\"\")\n"
   ]
  }
 ],
 "metadata": {
  "application/vnd.databricks.v1+notebook": {
   "computePreferences": null,
   "dashboards": [],
   "environmentMetadata": {
    "base_environment": "",
    "environment_version": "2"
   },
   "inputWidgetPreferences": null,
   "language": "python",
   "notebookMetadata": {
    "pythonIndentUnit": 4
   },
   "notebookName": "ntb_create_table",
   "widgets": {}
  },
  "language_info": {
   "name": "python"
  }
 },
 "nbformat": 4,
 "nbformat_minor": 0
}
